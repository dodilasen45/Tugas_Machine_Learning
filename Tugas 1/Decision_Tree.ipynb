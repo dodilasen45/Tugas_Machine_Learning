{
  "nbformat": 4,
  "nbformat_minor": 0,
  "metadata": {
    "colab": {
      "name": "Decision-Tree.ipynb",
      "provenance": []
    },
    "kernelspec": {
      "display_name": "Python 3",
      "name": "python3"
    },
    "language_info": {
      "name": "python"
    }
  },
  "cells": [
    {
      "cell_type": "code",
      "metadata": {
        "id": "n0_WRy8165sv"
      },
      "source": [
        "import pandas as pd"
      ],
      "execution_count": null,
      "outputs": []
    },
    {
      "cell_type": "code",
      "metadata": {
        "colab": {
          "base_uri": "https://localhost:8080/"
        },
        "id": "urQ2wOLZ7A-5",
        "outputId": "37c38a1a-8309-4647-833f-716b421cb266"
      },
      "source": [
        "#connect to google drive\n",
        "from google.colab import drive\n",
        "drive.mount('/content/gdrive')"
      ],
      "execution_count": null,
      "outputs": [
        {
          "name": "stdout",
          "output_type": "stream",
          "text": [
            "Drive already mounted at /content/gdrive; to attempt to forcibly remount, call drive.mount(\"/content/gdrive\", force_remount=True).\n"
          ]
        }
      ]
    },
    {
      "cell_type": "code",
      "metadata": {
        "id": "ORVlorzB7VD6"
      },
      "source": [
        "melbourne_data = pd.read_csv('melb_data.csv')"
      ],
      "execution_count": null,
      "outputs": []
    },
    {
      "cell_type": "code",
      "metadata": {
        "colab": {
          "base_uri": "https://localhost:8080/",
          "height": 320
        },
        "id": "Zqkz_A3q_zl7",
        "outputId": "f822d230-8d54-45ab-d710-9ed2203b3b33"
      },
      "source": [
        "\n",
        "# print a summary of the data in Melbourne data\n",
        "melbourne_data.describe()"
      ],
      "execution_count": null,
      "outputs": [
        {
          "data": {
            "text/html": [
              "<div>\n",
              "<style scoped>\n",
              "    .dataframe tbody tr th:only-of-type {\n",
              "        vertical-align: middle;\n",
              "    }\n",
              "\n",
              "    .dataframe tbody tr th {\n",
              "        vertical-align: top;\n",
              "    }\n",
              "\n",
              "    .dataframe thead th {\n",
              "        text-align: right;\n",
              "    }\n",
              "</style>\n",
              "<table border=\"1\" class=\"dataframe\">\n",
              "  <thead>\n",
              "    <tr style=\"text-align: right;\">\n",
              "      <th></th>\n",
              "      <th>Rooms</th>\n",
              "      <th>Price</th>\n",
              "      <th>Distance</th>\n",
              "      <th>Postcode</th>\n",
              "      <th>Bedroom2</th>\n",
              "      <th>Bathroom</th>\n",
              "      <th>Car</th>\n",
              "      <th>Landsize</th>\n",
              "      <th>BuildingArea</th>\n",
              "      <th>YearBuilt</th>\n",
              "      <th>Lattitude</th>\n",
              "      <th>Longtitude</th>\n",
              "      <th>Propertycount</th>\n",
              "    </tr>\n",
              "  </thead>\n",
              "  <tbody>\n",
              "    <tr>\n",
              "      <th>count</th>\n",
              "      <td>8.000000</td>\n",
              "      <td>8.000000e+00</td>\n",
              "      <td>8.000000</td>\n",
              "      <td>8.000000</td>\n",
              "      <td>8.000000</td>\n",
              "      <td>8.000000</td>\n",
              "      <td>8.000000</td>\n",
              "      <td>8.000000</td>\n",
              "      <td>8.000000</td>\n",
              "      <td>8.000000</td>\n",
              "      <td>8.000000</td>\n",
              "      <td>8.000000</td>\n",
              "      <td>8.000000</td>\n",
              "    </tr>\n",
              "    <tr>\n",
              "      <th>mean</th>\n",
              "      <td>1700.361718</td>\n",
              "      <td>1.712072e+06</td>\n",
              "      <td>1709.050813</td>\n",
              "      <td>4128.622360</td>\n",
              "      <td>1701.485081</td>\n",
              "      <td>1699.278244</td>\n",
              "      <td>1691.946589</td>\n",
              "      <td>56551.385671</td>\n",
              "      <td>6591.372774</td>\n",
              "      <td>2416.244747</td>\n",
              "      <td>1669.157925</td>\n",
              "      <td>1806.255662</td>\n",
              "      <td>8572.249894</td>\n",
              "    </tr>\n",
              "    <tr>\n",
              "      <th>std</th>\n",
              "      <td>4800.099594</td>\n",
              "      <td>2.979226e+06</td>\n",
              "      <td>4796.610473</td>\n",
              "      <td>3985.809948</td>\n",
              "      <td>4799.649088</td>\n",
              "      <td>4800.537179</td>\n",
              "      <td>4778.448201</td>\n",
              "      <td>152183.138180</td>\n",
              "      <td>15515.997075</td>\n",
              "      <td>2438.404923</td>\n",
              "      <td>4812.725232</td>\n",
              "      <td>4757.581280</td>\n",
              "      <td>6643.530235</td>\n",
              "    </tr>\n",
              "    <tr>\n",
              "      <th>min</th>\n",
              "      <td>0.955748</td>\n",
              "      <td>1.358000e+04</td>\n",
              "      <td>0.000000</td>\n",
              "      <td>90.676964</td>\n",
              "      <td>0.000000</td>\n",
              "      <td>0.000000</td>\n",
              "      <td>0.000000</td>\n",
              "      <td>0.000000</td>\n",
              "      <td>0.000000</td>\n",
              "      <td>37.273762</td>\n",
              "      <td>-38.182550</td>\n",
              "      <td>0.103916</td>\n",
              "      <td>249.000000</td>\n",
              "    </tr>\n",
              "    <tr>\n",
              "      <th>25%</th>\n",
              "      <td>1.750000</td>\n",
              "      <td>5.007330e+05</td>\n",
              "      <td>6.042181</td>\n",
              "      <td>3033.000000</td>\n",
              "      <td>1.741480</td>\n",
              "      <td>0.922928</td>\n",
              "      <td>0.990658</td>\n",
              "      <td>374.250000</td>\n",
              "      <td>117.750000</td>\n",
              "      <td>1754.000000</td>\n",
              "      <td>-37.821108</td>\n",
              "      <td>144.805152</td>\n",
              "      <td>4379.645443</td>\n",
              "    </tr>\n",
              "    <tr>\n",
              "      <th>50%</th>\n",
              "      <td>2.968999</td>\n",
              "      <td>7.765000e+05</td>\n",
              "      <td>9.668888</td>\n",
              "      <td>3094.650958</td>\n",
              "      <td>2.957364</td>\n",
              "      <td>1.267121</td>\n",
              "      <td>1.805038</td>\n",
              "      <td>604.708063</td>\n",
              "      <td>162.983825</td>\n",
              "      <td>1967.342108</td>\n",
              "      <td>-37.779377</td>\n",
              "      <td>144.997658</td>\n",
              "      <td>7004.708689</td>\n",
              "    </tr>\n",
              "    <tr>\n",
              "      <th>75%</th>\n",
              "      <td>4.750000</td>\n",
              "      <td>1.139263e+06</td>\n",
              "      <td>21.775000</td>\n",
              "      <td>3355.250000</td>\n",
              "      <td>7.250000</td>\n",
              "      <td>3.500000</td>\n",
              "      <td>4.000000</td>\n",
              "      <td>6388.001931</td>\n",
              "      <td>2188.260904</td>\n",
              "      <td>2003.750000</td>\n",
              "      <td>-28.036582</td>\n",
              "      <td>145.175316</td>\n",
              "      <td>11143.250000</td>\n",
              "    </tr>\n",
              "    <tr>\n",
              "      <th>max</th>\n",
              "      <td>13580.000000</td>\n",
              "      <td>9.000000e+06</td>\n",
              "      <td>13580.000000</td>\n",
              "      <td>13580.000000</td>\n",
              "      <td>13580.000000</td>\n",
              "      <td>13580.000000</td>\n",
              "      <td>13518.000000</td>\n",
              "      <td>433014.000000</td>\n",
              "      <td>44515.000000</td>\n",
              "      <td>8205.000000</td>\n",
              "      <td>13580.000000</td>\n",
              "      <td>13580.000000</td>\n",
              "      <td>21650.000000</td>\n",
              "    </tr>\n",
              "  </tbody>\n",
              "</table>\n",
              "</div>"
            ],
            "text/plain": [
              "              Rooms         Price  ...    Longtitude  Propertycount\n",
              "count      8.000000  8.000000e+00  ...      8.000000       8.000000\n",
              "mean    1700.361718  1.712072e+06  ...   1806.255662    8572.249894\n",
              "std     4800.099594  2.979226e+06  ...   4757.581280    6643.530235\n",
              "min        0.955748  1.358000e+04  ...      0.103916     249.000000\n",
              "25%        1.750000  5.007330e+05  ...    144.805152    4379.645443\n",
              "50%        2.968999  7.765000e+05  ...    144.997658    7004.708689\n",
              "75%        4.750000  1.139263e+06  ...    145.175316   11143.250000\n",
              "max    13580.000000  9.000000e+06  ...  13580.000000   21650.000000\n",
              "\n",
              "[8 rows x 13 columns]"
            ]
          },
          "execution_count": 26,
          "metadata": {},
          "output_type": "execute_result"
        }
      ]
    },
    {
      "cell_type": "code",
      "metadata": {
        "colab": {
          "base_uri": "https://localhost:8080/"
        },
        "id": "B4RJu0bFPICK",
        "outputId": "39b459de-946a-42fb-80f5-027895d83673"
      },
      "source": [
        "melbourne_data.columns"
      ],
      "execution_count": null,
      "outputs": [
        {
          "data": {
            "text/plain": [
              "Index(['Unnamed: 0', 'Rooms', 'Price', 'Distance', 'Postcode', 'Bedroom2',\n",
              "       'Bathroom', 'Car', 'Landsize', 'BuildingArea', 'YearBuilt', 'Lattitude',\n",
              "       'Longtitude', 'Propertycount'],\n",
              "      dtype='object')"
            ]
          },
          "execution_count": 27,
          "metadata": {},
          "output_type": "execute_result"
        }
      ]
    },
    {
      "cell_type": "code",
      "metadata": {
        "id": "M4vSPnucPMoE"
      },
      "source": [
        "melbourne_data = melbourne_data.dropna(axis=0)"
      ],
      "execution_count": null,
      "outputs": []
    },
    {
      "cell_type": "code",
      "metadata": {
        "colab": {
          "base_uri": "https://localhost:8080/"
        },
        "id": "7CQg5ZcqPVi8",
        "outputId": "4ee7f7b7-300e-47f5-8bdd-23483dcf01d0"
      },
      "source": [
        "y = melbourne_data.Price\n",
        "y.describe()"
      ],
      "execution_count": null,
      "outputs": [
        {
          "data": {
            "text/plain": [
              "count    8.000000e+00\n",
              "mean     1.712072e+06\n",
              "std      2.979226e+06\n",
              "min      1.358000e+04\n",
              "25%      5.007330e+05\n",
              "50%      7.765000e+05\n",
              "75%      1.139263e+06\n",
              "max      9.000000e+06\n",
              "Name: Price, dtype: float64"
            ]
          },
          "execution_count": 29,
          "metadata": {},
          "output_type": "execute_result"
        }
      ]
    },
    {
      "cell_type": "code",
      "metadata": {
        "id": "HrIya4AbPX_C"
      },
      "source": [
        "melbourne_features = ['Rooms', 'Bathroom', 'Landsize', 'Lattitude', 'Longtitude']"
      ],
      "execution_count": null,
      "outputs": []
    },
    {
      "cell_type": "code",
      "metadata": {
        "id": "ZyXxiyuRPbMm"
      },
      "source": [
        "x = melbourne_data[melbourne_features]"
      ],
      "execution_count": null,
      "outputs": []
    },
    {
      "cell_type": "code",
      "metadata": {
        "colab": {
          "base_uri": "https://localhost:8080/",
          "height": 300
        },
        "id": "C8iHteQfPdP8",
        "outputId": "7eedaa4e-6398-4ac7-e73d-c079772a7035"
      },
      "source": [
        "x.describe()"
      ],
      "execution_count": null,
      "outputs": [
        {
          "data": {
            "text/html": [
              "<div>\n",
              "<style scoped>\n",
              "    .dataframe tbody tr th:only-of-type {\n",
              "        vertical-align: middle;\n",
              "    }\n",
              "\n",
              "    .dataframe tbody tr th {\n",
              "        vertical-align: top;\n",
              "    }\n",
              "\n",
              "    .dataframe thead th {\n",
              "        text-align: right;\n",
              "    }\n",
              "</style>\n",
              "<table border=\"1\" class=\"dataframe\">\n",
              "  <thead>\n",
              "    <tr style=\"text-align: right;\">\n",
              "      <th></th>\n",
              "      <th>Rooms</th>\n",
              "      <th>Bathroom</th>\n",
              "      <th>Landsize</th>\n",
              "      <th>Lattitude</th>\n",
              "      <th>Longtitude</th>\n",
              "    </tr>\n",
              "  </thead>\n",
              "  <tbody>\n",
              "    <tr>\n",
              "      <th>count</th>\n",
              "      <td>8.000000</td>\n",
              "      <td>8.000000</td>\n",
              "      <td>8.000000</td>\n",
              "      <td>8.000000</td>\n",
              "      <td>8.000000</td>\n",
              "    </tr>\n",
              "    <tr>\n",
              "      <th>mean</th>\n",
              "      <td>1700.361718</td>\n",
              "      <td>1699.278244</td>\n",
              "      <td>56551.385671</td>\n",
              "      <td>1669.157925</td>\n",
              "      <td>1806.255662</td>\n",
              "    </tr>\n",
              "    <tr>\n",
              "      <th>std</th>\n",
              "      <td>4800.099594</td>\n",
              "      <td>4800.537179</td>\n",
              "      <td>152183.138180</td>\n",
              "      <td>4812.725232</td>\n",
              "      <td>4757.581280</td>\n",
              "    </tr>\n",
              "    <tr>\n",
              "      <th>min</th>\n",
              "      <td>0.955748</td>\n",
              "      <td>0.000000</td>\n",
              "      <td>0.000000</td>\n",
              "      <td>-38.182550</td>\n",
              "      <td>0.103916</td>\n",
              "    </tr>\n",
              "    <tr>\n",
              "      <th>25%</th>\n",
              "      <td>1.750000</td>\n",
              "      <td>0.922928</td>\n",
              "      <td>374.250000</td>\n",
              "      <td>-37.821108</td>\n",
              "      <td>144.805152</td>\n",
              "    </tr>\n",
              "    <tr>\n",
              "      <th>50%</th>\n",
              "      <td>2.968999</td>\n",
              "      <td>1.267121</td>\n",
              "      <td>604.708063</td>\n",
              "      <td>-37.779377</td>\n",
              "      <td>144.997658</td>\n",
              "    </tr>\n",
              "    <tr>\n",
              "      <th>75%</th>\n",
              "      <td>4.750000</td>\n",
              "      <td>3.500000</td>\n",
              "      <td>6388.001931</td>\n",
              "      <td>-28.036582</td>\n",
              "      <td>145.175316</td>\n",
              "    </tr>\n",
              "    <tr>\n",
              "      <th>max</th>\n",
              "      <td>13580.000000</td>\n",
              "      <td>13580.000000</td>\n",
              "      <td>433014.000000</td>\n",
              "      <td>13580.000000</td>\n",
              "      <td>13580.000000</td>\n",
              "    </tr>\n",
              "  </tbody>\n",
              "</table>\n",
              "</div>"
            ],
            "text/plain": [
              "              Rooms      Bathroom       Landsize     Lattitude    Longtitude\n",
              "count      8.000000      8.000000       8.000000      8.000000      8.000000\n",
              "mean    1700.361718   1699.278244   56551.385671   1669.157925   1806.255662\n",
              "std     4800.099594   4800.537179  152183.138180   4812.725232   4757.581280\n",
              "min        0.955748      0.000000       0.000000    -38.182550      0.103916\n",
              "25%        1.750000      0.922928     374.250000    -37.821108    144.805152\n",
              "50%        2.968999      1.267121     604.708063    -37.779377    144.997658\n",
              "75%        4.750000      3.500000    6388.001931    -28.036582    145.175316\n",
              "max    13580.000000  13580.000000  433014.000000  13580.000000  13580.000000"
            ]
          },
          "execution_count": 32,
          "metadata": {},
          "output_type": "execute_result"
        }
      ]
    },
    {
      "cell_type": "code",
      "metadata": {
        "colab": {
          "base_uri": "https://localhost:8080/",
          "height": 206
        },
        "id": "f89GhMvXPfid",
        "outputId": "72794ec5-a8d7-4dc5-f7df-8e34ad3c4457"
      },
      "source": [
        "x.head()"
      ],
      "execution_count": null,
      "outputs": [
        {
          "data": {
            "text/html": [
              "<div>\n",
              "<style scoped>\n",
              "    .dataframe tbody tr th:only-of-type {\n",
              "        vertical-align: middle;\n",
              "    }\n",
              "\n",
              "    .dataframe tbody tr th {\n",
              "        vertical-align: top;\n",
              "    }\n",
              "\n",
              "    .dataframe thead th {\n",
              "        text-align: right;\n",
              "    }\n",
              "</style>\n",
              "<table border=\"1\" class=\"dataframe\">\n",
              "  <thead>\n",
              "    <tr style=\"text-align: right;\">\n",
              "      <th></th>\n",
              "      <th>Rooms</th>\n",
              "      <th>Bathroom</th>\n",
              "      <th>Landsize</th>\n",
              "      <th>Lattitude</th>\n",
              "      <th>Longtitude</th>\n",
              "    </tr>\n",
              "  </thead>\n",
              "  <tbody>\n",
              "    <tr>\n",
              "      <th>0</th>\n",
              "      <td>13580.000000</td>\n",
              "      <td>13580.000000</td>\n",
              "      <td>13580.000000</td>\n",
              "      <td>13580.000000</td>\n",
              "      <td>13580.000000</td>\n",
              "    </tr>\n",
              "    <tr>\n",
              "      <th>1</th>\n",
              "      <td>2.937997</td>\n",
              "      <td>1.534242</td>\n",
              "      <td>558.416127</td>\n",
              "      <td>-37.809203</td>\n",
              "      <td>144.995216</td>\n",
              "    </tr>\n",
              "    <tr>\n",
              "      <th>2</th>\n",
              "      <td>0.955748</td>\n",
              "      <td>0.691712</td>\n",
              "      <td>3990.669241</td>\n",
              "      <td>0.079260</td>\n",
              "      <td>0.103916</td>\n",
              "    </tr>\n",
              "    <tr>\n",
              "      <th>3</th>\n",
              "      <td>1.000000</td>\n",
              "      <td>0.000000</td>\n",
              "      <td>0.000000</td>\n",
              "      <td>-38.182550</td>\n",
              "      <td>144.431810</td>\n",
              "    </tr>\n",
              "    <tr>\n",
              "      <th>4</th>\n",
              "      <td>2.000000</td>\n",
              "      <td>1.000000</td>\n",
              "      <td>177.000000</td>\n",
              "      <td>-37.856822</td>\n",
              "      <td>144.929600</td>\n",
              "    </tr>\n",
              "  </tbody>\n",
              "</table>\n",
              "</div>"
            ],
            "text/plain": [
              "          Rooms      Bathroom      Landsize     Lattitude    Longtitude\n",
              "0  13580.000000  13580.000000  13580.000000  13580.000000  13580.000000\n",
              "1      2.937997      1.534242    558.416127    -37.809203    144.995216\n",
              "2      0.955748      0.691712   3990.669241      0.079260      0.103916\n",
              "3      1.000000      0.000000      0.000000    -38.182550    144.431810\n",
              "4      2.000000      1.000000    177.000000    -37.856822    144.929600"
            ]
          },
          "execution_count": 33,
          "metadata": {},
          "output_type": "execute_result"
        }
      ]
    },
    {
      "cell_type": "code",
      "metadata": {
        "colab": {
          "base_uri": "https://localhost:8080/",
          "height": 206
        },
        "id": "Uw5Yxd3yPrSv",
        "outputId": "559a7022-cfe6-4a65-b7a9-2e5de8e8229c"
      },
      "source": [
        "x.tail()"
      ],
      "execution_count": null,
      "outputs": [
        {
          "data": {
            "text/html": [
              "<div>\n",
              "<style scoped>\n",
              "    .dataframe tbody tr th:only-of-type {\n",
              "        vertical-align: middle;\n",
              "    }\n",
              "\n",
              "    .dataframe tbody tr th {\n",
              "        vertical-align: top;\n",
              "    }\n",
              "\n",
              "    .dataframe thead th {\n",
              "        text-align: right;\n",
              "    }\n",
              "</style>\n",
              "<table border=\"1\" class=\"dataframe\">\n",
              "  <thead>\n",
              "    <tr style=\"text-align: right;\">\n",
              "      <th></th>\n",
              "      <th>Rooms</th>\n",
              "      <th>Bathroom</th>\n",
              "      <th>Landsize</th>\n",
              "      <th>Lattitude</th>\n",
              "      <th>Longtitude</th>\n",
              "    </tr>\n",
              "  </thead>\n",
              "  <tbody>\n",
              "    <tr>\n",
              "      <th>3</th>\n",
              "      <td>1.0</td>\n",
              "      <td>0.0</td>\n",
              "      <td>0.0</td>\n",
              "      <td>-38.182550</td>\n",
              "      <td>144.431810</td>\n",
              "    </tr>\n",
              "    <tr>\n",
              "      <th>4</th>\n",
              "      <td>2.0</td>\n",
              "      <td>1.0</td>\n",
              "      <td>177.0</td>\n",
              "      <td>-37.856822</td>\n",
              "      <td>144.929600</td>\n",
              "    </tr>\n",
              "    <tr>\n",
              "      <th>5</th>\n",
              "      <td>3.0</td>\n",
              "      <td>1.0</td>\n",
              "      <td>440.0</td>\n",
              "      <td>-37.802355</td>\n",
              "      <td>145.000100</td>\n",
              "    </tr>\n",
              "    <tr>\n",
              "      <th>6</th>\n",
              "      <td>3.0</td>\n",
              "      <td>2.0</td>\n",
              "      <td>651.0</td>\n",
              "      <td>-37.756400</td>\n",
              "      <td>145.058305</td>\n",
              "    </tr>\n",
              "    <tr>\n",
              "      <th>7</th>\n",
              "      <td>10.0</td>\n",
              "      <td>8.0</td>\n",
              "      <td>433014.0</td>\n",
              "      <td>-37.408530</td>\n",
              "      <td>145.526350</td>\n",
              "    </tr>\n",
              "  </tbody>\n",
              "</table>\n",
              "</div>"
            ],
            "text/plain": [
              "   Rooms  Bathroom  Landsize  Lattitude  Longtitude\n",
              "3    1.0       0.0       0.0 -38.182550  144.431810\n",
              "4    2.0       1.0     177.0 -37.856822  144.929600\n",
              "5    3.0       1.0     440.0 -37.802355  145.000100\n",
              "6    3.0       2.0     651.0 -37.756400  145.058305\n",
              "7   10.0       8.0  433014.0 -37.408530  145.526350"
            ]
          },
          "execution_count": 34,
          "metadata": {},
          "output_type": "execute_result"
        }
      ]
    },
    {
      "cell_type": "markdown",
      "metadata": {
        "id": "pKYqBCL-PtMj"
      },
      "source": [
        "3. Building The Model"
      ]
    },
    {
      "cell_type": "code",
      "metadata": {
        "id": "FE3ZyaErPxCD"
      },
      "source": [
        "from sklearn.tree import DecisionTreeRegressor\n",
        "\n",
        "melbourne_model = DecisionTreeRegressor(random_state=1)"
      ],
      "execution_count": null,
      "outputs": []
    },
    {
      "cell_type": "code",
      "metadata": {
        "colab": {
          "base_uri": "https://localhost:8080/"
        },
        "id": "EP1VuetbPztW",
        "outputId": "9dacb083-6eb4-4123-f65c-4a539bbf3415"
      },
      "source": [
        "melbourne_model.fit(x,y)"
      ],
      "execution_count": null,
      "outputs": [
        {
          "data": {
            "text/plain": [
              "DecisionTreeRegressor(ccp_alpha=0.0, criterion='mse', max_depth=None,\n",
              "                      max_features=None, max_leaf_nodes=None,\n",
              "                      min_impurity_decrease=0.0, min_impurity_split=None,\n",
              "                      min_samples_leaf=1, min_samples_split=2,\n",
              "                      min_weight_fraction_leaf=0.0, presort='deprecated',\n",
              "                      random_state=1, splitter='best')"
            ]
          },
          "execution_count": 36,
          "metadata": {},
          "output_type": "execute_result"
        }
      ]
    },
    {
      "cell_type": "code",
      "metadata": {
        "colab": {
          "base_uri": "https://localhost:8080/"
        },
        "id": "_8O9SoaCQhtW",
        "outputId": "b726ee9b-c892-4699-ea2e-5b6f000e6724"
      },
      "source": [
        "print(\"Making prediction for the following 5 house:\")\n",
        "print(x.head())\n",
        "print(\"The predictions are\")\n",
        "print(melbourne_model.predict(x.head()))"
      ],
      "execution_count": null,
      "outputs": [
        {
          "name": "stdout",
          "output_type": "stream",
          "text": [
            "Making prediction for the following 5 house:\n",
            "          Rooms      Bathroom      Landsize     Lattitude    Longtitude\n",
            "0  13580.000000  13580.000000  13580.000000  13580.000000  13580.000000\n",
            "1      2.937997      1.534242    558.416127    -37.809203    144.995216\n",
            "2      0.955748      0.691712   3990.669241      0.079260      0.103916\n",
            "3      1.000000      0.000000      0.000000    -38.182550    144.431810\n",
            "4      2.000000      1.000000    177.000000    -37.856822    144.929600\n",
            "The predictions are\n",
            "[  13580.  1075684.   639310.7   85000.   650000. ]\n"
          ]
        }
      ]
    },
    {
      "cell_type": "markdown",
      "metadata": {
        "id": "L-xt1EhgQzsz"
      },
      "source": [
        "4. Model Validation"
      ]
    },
    {
      "cell_type": "code",
      "metadata": {
        "colab": {
          "base_uri": "https://localhost:8080/"
        },
        "id": "0pPRFRv-SHI1",
        "outputId": "daba6370-81c3-4d6b-aeb6-4c9ff52fda6f"
      },
      "source": [
        "from sklearn.metrics import mean_absolute_error\n",
        "\n",
        "predicted_home_prices = melbourne_model.predict(x)\n",
        "mean_absolute_error(y, predicted_home_prices)"
      ],
      "execution_count": null,
      "outputs": [
        {
          "data": {
            "text/plain": [
              "0.0"
            ]
          },
          "execution_count": 39,
          "metadata": {},
          "output_type": "execute_result"
        }
      ]
    },
    {
      "cell_type": "code",
      "metadata": {
        "id": "6b71UpiylcSx"
      },
      "source": [
        "from sklearn.model_selection import train_test_split\n",
        "\n",
        "train_x, val_x, train_y, val_y = train_test_split(x, y, random_state = 0)"
      ],
      "execution_count": null,
      "outputs": []
    },
    {
      "cell_type": "code",
      "metadata": {
        "colab": {
          "base_uri": "https://localhost:8080/"
        },
        "id": "7tXEeIk7libm",
        "outputId": "57da1d1d-3f6c-4d12-916b-ae5fa3b2efe7"
      },
      "source": [
        "# Define model\n",
        "melbourne_model = DecisionTreeRegressor()\n",
        "# Fit model\n",
        "melbourne_model.fit(train_x, train_y)"
      ],
      "execution_count": null,
      "outputs": [
        {
          "data": {
            "text/plain": [
              "DecisionTreeRegressor(ccp_alpha=0.0, criterion='mse', max_depth=None,\n",
              "                      max_features=None, max_leaf_nodes=None,\n",
              "                      min_impurity_decrease=0.0, min_impurity_split=None,\n",
              "                      min_samples_leaf=1, min_samples_split=2,\n",
              "                      min_weight_fraction_leaf=0.0, presort='deprecated',\n",
              "                      random_state=None, splitter='best')"
            ]
          },
          "execution_count": 42,
          "metadata": {},
          "output_type": "execute_result"
        }
      ]
    },
    {
      "cell_type": "code",
      "metadata": {
        "colab": {
          "base_uri": "https://localhost:8080/"
        },
        "id": "9tYVxyYxlmfH",
        "outputId": "c9350559-d3b6-460e-c2b5-ca153c5c1db6"
      },
      "source": [
        "# get predicted prices on validation data\n",
        "val_predictions = melbourne_model.predict(val_x)\n",
        "print(mean_absolute_error(val_y, val_predictions))"
      ],
      "execution_count": null,
      "outputs": [
        {
          "name": "stdout",
          "output_type": "stream",
          "text": [
            "132502.65000000002\n"
          ]
        }
      ]
    },
    {
      "cell_type": "markdown",
      "metadata": {
        "id": "P9G70-51lvIB"
      },
      "source": [
        "5. Underfitting and Overfitting"
      ]
    },
    {
      "cell_type": "code",
      "metadata": {
        "id": "ItOyNSpQlwzQ"
      },
      "source": [
        "# use a utility function to help compare MAE scores from different values for max_leaf_nodes:\n",
        "\n",
        "from sklearn.metrics import mean_absolute_error\n",
        "from sklearn.tree import DecisionTreeRegressor\n",
        "\n",
        "def get_mae(max_leaf_nodes, train_X, val_X, train_y, val_y):\n",
        "    model = DecisionTreeRegressor(max_leaf_nodes=max_leaf_nodes, random_state=0)\n",
        "    model.fit(train_X, train_y)\n",
        "    preds_val = model.predict(val_X)\n",
        "    mae = mean_absolute_error(val_y, preds_val)\n",
        "    return(mae)"
      ],
      "execution_count": null,
      "outputs": []
    }
  ]
}