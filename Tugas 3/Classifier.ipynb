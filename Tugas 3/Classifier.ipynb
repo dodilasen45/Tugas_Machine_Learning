{
  "nbformat": 4,
  "nbformat_minor": 0,
  "metadata": {
    "colab": {
      "name": "Classifier.ipynb",
      "provenance": []
    },
    "kernelspec": {
      "name": "python3",
      "display_name": "Python 3"
    },
    "language_info": {
      "name": "python"
    }
  },
  "cells": [
    {
      "cell_type": "code",
      "metadata": {
        "id": "W8OV0r1E0NIZ"
      },
      "source": [
        "import numpy as np\n",
        "import pandas as pd\n",
        "import matplotlib.pyplot as plt"
      ],
      "execution_count": null,
      "outputs": []
    },
    {
      "cell_type": "code",
      "metadata": {
        "id": "XWqs07r56lXf"
      },
      "source": [
        "fruits=pd.read_table('fruit_data_with_colors.txt')"
      ],
      "execution_count": null,
      "outputs": []
    },
    {
      "cell_type": "code",
      "metadata": {
        "colab": {
          "base_uri": "https://localhost:8080/",
          "height": 206
        },
        "id": "tueXFcze6s37",
        "outputId": "58159619-b2a6-4fd9-adf3-202ec9ed83b2"
      },
      "source": [
        "fruits.head()"
      ],
      "execution_count": null,
      "outputs": [
        {
          "output_type": "execute_result",
          "data": {
            "text/html": [
              "<div>\n",
              "<style scoped>\n",
              "    .dataframe tbody tr th:only-of-type {\n",
              "        vertical-align: middle;\n",
              "    }\n",
              "\n",
              "    .dataframe tbody tr th {\n",
              "        vertical-align: top;\n",
              "    }\n",
              "\n",
              "    .dataframe thead th {\n",
              "        text-align: right;\n",
              "    }\n",
              "</style>\n",
              "<table border=\"1\" class=\"dataframe\">\n",
              "  <thead>\n",
              "    <tr style=\"text-align: right;\">\n",
              "      <th></th>\n",
              "      <th>fruit_label</th>\n",
              "      <th>fruit_name</th>\n",
              "      <th>fruit_subtype</th>\n",
              "      <th>mass</th>\n",
              "      <th>width</th>\n",
              "      <th>height</th>\n",
              "      <th>color_score</th>\n",
              "    </tr>\n",
              "  </thead>\n",
              "  <tbody>\n",
              "    <tr>\n",
              "      <th>0</th>\n",
              "      <td>1</td>\n",
              "      <td>apple</td>\n",
              "      <td>granny_smith</td>\n",
              "      <td>192</td>\n",
              "      <td>8.4</td>\n",
              "      <td>7.3</td>\n",
              "      <td>0.55</td>\n",
              "    </tr>\n",
              "    <tr>\n",
              "      <th>1</th>\n",
              "      <td>1</td>\n",
              "      <td>apple</td>\n",
              "      <td>granny_smith</td>\n",
              "      <td>180</td>\n",
              "      <td>8.0</td>\n",
              "      <td>6.8</td>\n",
              "      <td>0.59</td>\n",
              "    </tr>\n",
              "    <tr>\n",
              "      <th>2</th>\n",
              "      <td>1</td>\n",
              "      <td>apple</td>\n",
              "      <td>granny_smith</td>\n",
              "      <td>176</td>\n",
              "      <td>7.4</td>\n",
              "      <td>7.2</td>\n",
              "      <td>0.60</td>\n",
              "    </tr>\n",
              "    <tr>\n",
              "      <th>3</th>\n",
              "      <td>2</td>\n",
              "      <td>mandarin</td>\n",
              "      <td>mandarin</td>\n",
              "      <td>86</td>\n",
              "      <td>6.2</td>\n",
              "      <td>4.7</td>\n",
              "      <td>0.80</td>\n",
              "    </tr>\n",
              "    <tr>\n",
              "      <th>4</th>\n",
              "      <td>2</td>\n",
              "      <td>mandarin</td>\n",
              "      <td>mandarin</td>\n",
              "      <td>84</td>\n",
              "      <td>6.0</td>\n",
              "      <td>4.6</td>\n",
              "      <td>0.79</td>\n",
              "    </tr>\n",
              "  </tbody>\n",
              "</table>\n",
              "</div>"
            ],
            "text/plain": [
              "   fruit_label fruit_name fruit_subtype  mass  width  height  color_score\n",
              "0            1      apple  granny_smith   192    8.4     7.3         0.55\n",
              "1            1      apple  granny_smith   180    8.0     6.8         0.59\n",
              "2            1      apple  granny_smith   176    7.4     7.2         0.60\n",
              "3            2   mandarin      mandarin    86    6.2     4.7         0.80\n",
              "4            2   mandarin      mandarin    84    6.0     4.6         0.79"
            ]
          },
          "metadata": {},
          "execution_count": 15
        }
      ]
    },
    {
      "cell_type": "code",
      "metadata": {
        "colab": {
          "base_uri": "https://localhost:8080/"
        },
        "id": "xh2xwJ2d7HFM",
        "outputId": "3b107830-70fc-4fd0-e294-bc1d8661ff01"
      },
      "source": [
        "# create a mapping from fruit label value to fruit name to make results easier to interpret\n",
        "predct = dict(zip(fruits.fruit_label.unique(), fruits.fruit_name.unique()))   \n",
        "predct"
      ],
      "execution_count": null,
      "outputs": [
        {
          "output_type": "execute_result",
          "data": {
            "text/plain": [
              "{1: 'apple', 2: 'mandarin'}"
            ]
          },
          "metadata": {},
          "execution_count": 26
        }
      ]
    },
    {
      "cell_type": "code",
      "metadata": {
        "colab": {
          "base_uri": "https://localhost:8080/"
        },
        "id": "R7w5UiJi7Lns",
        "outputId": "34288a5c-3378-4846-c967-0665acd7c6d1"
      },
      "source": [
        "fruits['fruit_name'].value_counts()"
      ],
      "execution_count": null,
      "outputs": [
        {
          "output_type": "execute_result",
          "data": {
            "text/plain": [
              "apple       3\n",
              "mandarin    2\n",
              "Name: fruit_name, dtype: int64"
            ]
          },
          "metadata": {},
          "execution_count": 27
        }
      ]
    },
    {
      "cell_type": "code",
      "metadata": {
        "id": "RgPEI8Y47RCD"
      },
      "source": [
        "apple_data=fruits[fruits['fruit_name']=='apple']\n",
        "mandarin_data=fruits[fruits['fruit_name']=='mandarin']"
      ],
      "execution_count": null,
      "outputs": []
    },
    {
      "cell_type": "code",
      "metadata": {
        "colab": {
          "base_uri": "https://localhost:8080/",
          "height": 143
        },
        "id": "BgT7DI6a7UXh",
        "outputId": "ffe7337b-8e99-449e-e054-5831fe7c3c47"
      },
      "source": [
        "apple_data.head()"
      ],
      "execution_count": null,
      "outputs": [
        {
          "output_type": "execute_result",
          "data": {
            "text/html": [
              "<div>\n",
              "<style scoped>\n",
              "    .dataframe tbody tr th:only-of-type {\n",
              "        vertical-align: middle;\n",
              "    }\n",
              "\n",
              "    .dataframe tbody tr th {\n",
              "        vertical-align: top;\n",
              "    }\n",
              "\n",
              "    .dataframe thead th {\n",
              "        text-align: right;\n",
              "    }\n",
              "</style>\n",
              "<table border=\"1\" class=\"dataframe\">\n",
              "  <thead>\n",
              "    <tr style=\"text-align: right;\">\n",
              "      <th></th>\n",
              "      <th>fruit_label</th>\n",
              "      <th>fruit_name</th>\n",
              "      <th>fruit_subtype</th>\n",
              "      <th>mass</th>\n",
              "      <th>width</th>\n",
              "      <th>height</th>\n",
              "      <th>color_score</th>\n",
              "    </tr>\n",
              "  </thead>\n",
              "  <tbody>\n",
              "    <tr>\n",
              "      <th>0</th>\n",
              "      <td>1</td>\n",
              "      <td>apple</td>\n",
              "      <td>granny_smith</td>\n",
              "      <td>192</td>\n",
              "      <td>8.4</td>\n",
              "      <td>7.3</td>\n",
              "      <td>0.55</td>\n",
              "    </tr>\n",
              "    <tr>\n",
              "      <th>1</th>\n",
              "      <td>1</td>\n",
              "      <td>apple</td>\n",
              "      <td>granny_smith</td>\n",
              "      <td>180</td>\n",
              "      <td>8.0</td>\n",
              "      <td>6.8</td>\n",
              "      <td>0.59</td>\n",
              "    </tr>\n",
              "    <tr>\n",
              "      <th>2</th>\n",
              "      <td>1</td>\n",
              "      <td>apple</td>\n",
              "      <td>granny_smith</td>\n",
              "      <td>176</td>\n",
              "      <td>7.4</td>\n",
              "      <td>7.2</td>\n",
              "      <td>0.60</td>\n",
              "    </tr>\n",
              "  </tbody>\n",
              "</table>\n",
              "</div>"
            ],
            "text/plain": [
              "   fruit_label fruit_name fruit_subtype  mass  width  height  color_score\n",
              "0            1      apple  granny_smith   192    8.4     7.3         0.55\n",
              "1            1      apple  granny_smith   180    8.0     6.8         0.59\n",
              "2            1      apple  granny_smith   176    7.4     7.2         0.60"
            ]
          },
          "metadata": {},
          "execution_count": 33
        }
      ]
    },
    {
      "cell_type": "code",
      "metadata": {
        "colab": {
          "base_uri": "https://localhost:8080/",
          "height": 112
        },
        "id": "65dfDRZ-7ZHn",
        "outputId": "1aeff793-9e27-4f08-a530-8008453f64b6"
      },
      "source": [
        "mandarin_data.head()"
      ],
      "execution_count": null,
      "outputs": [
        {
          "output_type": "execute_result",
          "data": {
            "text/html": [
              "<div>\n",
              "<style scoped>\n",
              "    .dataframe tbody tr th:only-of-type {\n",
              "        vertical-align: middle;\n",
              "    }\n",
              "\n",
              "    .dataframe tbody tr th {\n",
              "        vertical-align: top;\n",
              "    }\n",
              "\n",
              "    .dataframe thead th {\n",
              "        text-align: right;\n",
              "    }\n",
              "</style>\n",
              "<table border=\"1\" class=\"dataframe\">\n",
              "  <thead>\n",
              "    <tr style=\"text-align: right;\">\n",
              "      <th></th>\n",
              "      <th>fruit_label</th>\n",
              "      <th>fruit_name</th>\n",
              "      <th>fruit_subtype</th>\n",
              "      <th>mass</th>\n",
              "      <th>width</th>\n",
              "      <th>height</th>\n",
              "      <th>color_score</th>\n",
              "    </tr>\n",
              "  </thead>\n",
              "  <tbody>\n",
              "    <tr>\n",
              "      <th>3</th>\n",
              "      <td>2</td>\n",
              "      <td>mandarin</td>\n",
              "      <td>mandarin</td>\n",
              "      <td>86</td>\n",
              "      <td>6.2</td>\n",
              "      <td>4.7</td>\n",
              "      <td>0.80</td>\n",
              "    </tr>\n",
              "    <tr>\n",
              "      <th>4</th>\n",
              "      <td>2</td>\n",
              "      <td>mandarin</td>\n",
              "      <td>mandarin</td>\n",
              "      <td>84</td>\n",
              "      <td>6.0</td>\n",
              "      <td>4.6</td>\n",
              "      <td>0.79</td>\n",
              "    </tr>\n",
              "  </tbody>\n",
              "</table>\n",
              "</div>"
            ],
            "text/plain": [
              "   fruit_label fruit_name fruit_subtype  mass  width  height  color_score\n",
              "3            2   mandarin      mandarin    86    6.2     4.7         0.80\n",
              "4            2   mandarin      mandarin    84    6.0     4.6         0.79"
            ]
          },
          "metadata": {},
          "execution_count": 34
        }
      ]
    },
    {
      "cell_type": "code",
      "metadata": {
        "colab": {
          "base_uri": "https://localhost:8080/",
          "height": 283
        },
        "id": "KatRviaM7bi0",
        "outputId": "06b21871-9a45-4fb6-cff6-acbbf812bbf4"
      },
      "source": [
        "plt.scatter(fruits['width'],fruits['height'])"
      ],
      "execution_count": null,
      "outputs": [
        {
          "output_type": "execute_result",
          "data": {
            "text/plain": [
              "<matplotlib.collections.PathCollection at 0x7fde8048da90>"
            ]
          },
          "metadata": {},
          "execution_count": 35
        },
        {
          "output_type": "display_data",
          "data": {
            "image/png": "[encoded data removed]",
            "text/plain": [
              "<Figure size 432x288 with 1 Axes>"
            ]
          },
          "metadata": {
            "needs_background": "light"
          }
        }
      ]
    },
    {
      "cell_type": "code",
      "metadata": {
        "colab": {
          "base_uri": "https://localhost:8080/",
          "height": 283
        },
        "id": "8tzTGQjA7dQ4",
        "outputId": "eae8664b-c29a-4376-faa8-0cbce3651bbf"
      },
      "source": [
        "plt.scatter(fruits['mass'],fruits['color_score'])"
      ],
      "execution_count": null,
      "outputs": [
        {
          "output_type": "execute_result",
          "data": {
            "text/plain": [
              "<matplotlib.collections.PathCollection at 0x7fde7fe4a8d0>"
            ]
          },
          "metadata": {},
          "execution_count": 36
        },
        {
          "output_type": "display_data",
          "data": {
            "image/png": "[encoded data removed]",
            "text/plain": [
              "<Figure size 432x288 with 1 Axes>"
            ]
          },
          "metadata": {
            "needs_background": "light"
          }
        }
      ]
    },
    {
      "cell_type": "code",
      "metadata": {
        "colab": {
          "base_uri": "https://localhost:8080/",
          "height": 283
        },
        "id": "MbtAnPbz8lMF",
        "outputId": "1815f906-9f00-4311-8dec-0ab6d4c62400"
      },
      "source": [
        "plt.plot(fruits['height'],label='Height')\n",
        "plt.plot(fruits['width'],label='Width')\n",
        "plt.legend()"
      ],
      "execution_count": null,
      "outputs": [
        {
          "output_type": "execute_result",
          "data": {
            "text/plain": [
              "<matplotlib.legend.Legend at 0x7fde7fdbee90>"
            ]
          },
          "metadata": {},
          "execution_count": 37
        },
        {
          "output_type": "display_data",
          "data": {
            "image/png": "[encoded data removed]",
            "text/plain": [
              "<Figure size 432x288 with 1 Axes>"
            ]
          },
          "metadata": {
            "needs_background": "light"
          }
        }
      ]
    },
    {
      "cell_type": "code",
      "metadata": {
        "id": "9XujPfUd8o-N"
      },
      "source": [
        "from sklearn.model_selection import train_test_split\n",
        "from sklearn.neighbors import KNeighborsClassifier"
      ],
      "execution_count": null,
      "outputs": []
    },
    {
      "cell_type": "code",
      "metadata": {
        "id": "PzpifrLM8q_t"
      },
      "source": [
        "X=fruits[['mass','width','height']]\n",
        "Y=fruits['fruit_label']\n",
        "X_train,X_test,y_train,y_test=train_test_split(X,Y,random_state=0)"
      ],
      "execution_count": null,
      "outputs": []
    },
    {
      "cell_type": "code",
      "metadata": {
        "colab": {
          "base_uri": "https://localhost:8080/",
          "height": 300
        },
        "id": "8-pYqcPt8t6a",
        "outputId": "78e795ef-b329-4a8b-f6d8-8b134388c764"
      },
      "source": [
        "X_train.describe()"
      ],
      "execution_count": null,
      "outputs": [
        {
          "output_type": "execute_result",
          "data": {
            "text/html": [
              "<div>\n",
              "<style scoped>\n",
              "    .dataframe tbody tr th:only-of-type {\n",
              "        vertical-align: middle;\n",
              "    }\n",
              "\n",
              "    .dataframe tbody tr th {\n",
              "        vertical-align: top;\n",
              "    }\n",
              "\n",
              "    .dataframe thead th {\n",
              "        text-align: right;\n",
              "    }\n",
              "</style>\n",
              "<table border=\"1\" class=\"dataframe\">\n",
              "  <thead>\n",
              "    <tr style=\"text-align: right;\">\n",
              "      <th></th>\n",
              "      <th>mass</th>\n",
              "      <th>width</th>\n",
              "      <th>height</th>\n",
              "    </tr>\n",
              "  </thead>\n",
              "  <tbody>\n",
              "    <tr>\n",
              "      <th>count</th>\n",
              "      <td>3.000000</td>\n",
              "      <td>3.000000</td>\n",
              "      <td>3.000000</td>\n",
              "    </tr>\n",
              "    <tr>\n",
              "      <th>mean</th>\n",
              "      <td>116.666667</td>\n",
              "      <td>6.733333</td>\n",
              "      <td>5.366667</td>\n",
              "    </tr>\n",
              "    <tr>\n",
              "      <th>std</th>\n",
              "      <td>54.857391</td>\n",
              "      <td>1.101514</td>\n",
              "      <td>1.242310</td>\n",
              "    </tr>\n",
              "    <tr>\n",
              "      <th>min</th>\n",
              "      <td>84.000000</td>\n",
              "      <td>6.000000</td>\n",
              "      <td>4.600000</td>\n",
              "    </tr>\n",
              "    <tr>\n",
              "      <th>25%</th>\n",
              "      <td>85.000000</td>\n",
              "      <td>6.100000</td>\n",
              "      <td>4.650000</td>\n",
              "    </tr>\n",
              "    <tr>\n",
              "      <th>50%</th>\n",
              "      <td>86.000000</td>\n",
              "      <td>6.200000</td>\n",
              "      <td>4.700000</td>\n",
              "    </tr>\n",
              "    <tr>\n",
              "      <th>75%</th>\n",
              "      <td>133.000000</td>\n",
              "      <td>7.100000</td>\n",
              "      <td>5.750000</td>\n",
              "    </tr>\n",
              "    <tr>\n",
              "      <th>max</th>\n",
              "      <td>180.000000</td>\n",
              "      <td>8.000000</td>\n",
              "      <td>6.800000</td>\n",
              "    </tr>\n",
              "  </tbody>\n",
              "</table>\n",
              "</div>"
            ],
            "text/plain": [
              "             mass     width    height\n",
              "count    3.000000  3.000000  3.000000\n",
              "mean   116.666667  6.733333  5.366667\n",
              "std     54.857391  1.101514  1.242310\n",
              "min     84.000000  6.000000  4.600000\n",
              "25%     85.000000  6.100000  4.650000\n",
              "50%     86.000000  6.200000  4.700000\n",
              "75%    133.000000  7.100000  5.750000\n",
              "max    180.000000  8.000000  6.800000"
            ]
          },
          "metadata": {},
          "execution_count": 48
        }
      ]
    },
    {
      "cell_type": "code",
      "metadata": {
        "colab": {
          "base_uri": "https://localhost:8080/",
          "height": 300
        },
        "id": "0ojRW7df8wf3",
        "outputId": "718f39e6-1992-4d51-b071-43544a8682ef"
      },
      "source": [
        "X_test.describe()"
      ],
      "execution_count": null,
      "outputs": [
        {
          "output_type": "execute_result",
          "data": {
            "text/html": [
              "<div>\n",
              "<style scoped>\n",
              "    .dataframe tbody tr th:only-of-type {\n",
              "        vertical-align: middle;\n",
              "    }\n",
              "\n",
              "    .dataframe tbody tr th {\n",
              "        vertical-align: top;\n",
              "    }\n",
              "\n",
              "    .dataframe thead th {\n",
              "        text-align: right;\n",
              "    }\n",
              "</style>\n",
              "<table border=\"1\" class=\"dataframe\">\n",
              "  <thead>\n",
              "    <tr style=\"text-align: right;\">\n",
              "      <th></th>\n",
              "      <th>mass</th>\n",
              "      <th>width</th>\n",
              "      <th>height</th>\n",
              "    </tr>\n",
              "  </thead>\n",
              "  <tbody>\n",
              "    <tr>\n",
              "      <th>count</th>\n",
              "      <td>2.000000</td>\n",
              "      <td>2.000000</td>\n",
              "      <td>2.000000</td>\n",
              "    </tr>\n",
              "    <tr>\n",
              "      <th>mean</th>\n",
              "      <td>184.000000</td>\n",
              "      <td>7.900000</td>\n",
              "      <td>7.250000</td>\n",
              "    </tr>\n",
              "    <tr>\n",
              "      <th>std</th>\n",
              "      <td>11.313708</td>\n",
              "      <td>0.707107</td>\n",
              "      <td>0.070711</td>\n",
              "    </tr>\n",
              "    <tr>\n",
              "      <th>min</th>\n",
              "      <td>176.000000</td>\n",
              "      <td>7.400000</td>\n",
              "      <td>7.200000</td>\n",
              "    </tr>\n",
              "    <tr>\n",
              "      <th>25%</th>\n",
              "      <td>180.000000</td>\n",
              "      <td>7.650000</td>\n",
              "      <td>7.225000</td>\n",
              "    </tr>\n",
              "    <tr>\n",
              "      <th>50%</th>\n",
              "      <td>184.000000</td>\n",
              "      <td>7.900000</td>\n",
              "      <td>7.250000</td>\n",
              "    </tr>\n",
              "    <tr>\n",
              "      <th>75%</th>\n",
              "      <td>188.000000</td>\n",
              "      <td>8.150000</td>\n",
              "      <td>7.275000</td>\n",
              "    </tr>\n",
              "    <tr>\n",
              "      <th>max</th>\n",
              "      <td>192.000000</td>\n",
              "      <td>8.400000</td>\n",
              "      <td>7.300000</td>\n",
              "    </tr>\n",
              "  </tbody>\n",
              "</table>\n",
              "</div>"
            ],
            "text/plain": [
              "             mass     width    height\n",
              "count    2.000000  2.000000  2.000000\n",
              "mean   184.000000  7.900000  7.250000\n",
              "std     11.313708  0.707107  0.070711\n",
              "min    176.000000  7.400000  7.200000\n",
              "25%    180.000000  7.650000  7.225000\n",
              "50%    184.000000  7.900000  7.250000\n",
              "75%    188.000000  8.150000  7.275000\n",
              "max    192.000000  8.400000  7.300000"
            ]
          },
          "metadata": {},
          "execution_count": 49
        }
      ]
    },
    {
      "cell_type": "code",
      "metadata": {
        "id": "ifwzYyCV8zEu"
      },
      "source": [
        "knn=KNeighborsClassifier()"
      ],
      "execution_count": null,
      "outputs": []
    },
    {
      "cell_type": "code",
      "metadata": {
        "colab": {
          "base_uri": "https://localhost:8080/"
        },
        "id": "60WcccCi80wc",
        "outputId": "f682e096-da87-4e5d-b70d-ab1da6c1d7e6"
      },
      "source": [
        "knn.fit(X_train,y_train)"
      ],
      "execution_count": null,
      "outputs": [
        {
          "output_type": "execute_result",
          "data": {
            "text/plain": [
              "KNeighborsClassifier(algorithm='auto', leaf_size=30, metric='minkowski',\n",
              "                     metric_params=None, n_jobs=None, n_neighbors=5, p=2,\n",
              "                     weights='uniform')"
            ]
          },
          "metadata": {},
          "execution_count": 51
        }
      ]
    }
  ]
}