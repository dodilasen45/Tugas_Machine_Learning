{
  "nbformat": 4,
  "nbformat_minor": 0,
  "metadata": {
    "colab": {
      "name": "PCA-LDA-SVD.ipynb",
      "provenance": []
    },
    "kernelspec": {
      "name": "python3",
      "display_name": "Python 3"
    },
    "language_info": {
      "name": "python"
    }
  },
  "cells": [
    {
      "cell_type": "markdown",
      "metadata": {
        "id": "o53Q60Qo8B2O"
      },
      "source": [
        "PCA in ScikitLearn"
      ]
    },
    {
      "cell_type": "code",
      "metadata": {
        "colab": {
          "base_uri": "https://localhost:8080/"
        },
        "id": "Bx5eQ4cK6q1v",
        "outputId": "1d516f21-a769-4fe7-d477-606d8280e390"
      },
      "source": [
        "import numpy as np\n",
        "from sklearn.decomposition import PCA\n",
        "X = np.array([[-1, -1], [-2, -1], [-3, -2], [1, 1], [2, 1], [3, 2]])\n",
        "pca = PCA(n_components=2)\n",
        "pca.fit(X)\n",
        "\n",
        "PCA(n_components=2)\n",
        "print(pca.explained_variance_ratio_)\n",
        "print(pca.singular_values_)"
      ],
      "execution_count": null,
      "outputs": [
        {
          "output_type": "stream",
          "name": "stdout",
          "text": [
            "[0.99244289 0.00755711]\n",
            "[6.30061232 0.54980396]\n"
          ]
        }
      ]
    },
    {
      "cell_type": "code",
      "metadata": {
        "colab": {
          "base_uri": "https://localhost:8080/"
        },
        "id": "Uaf6F_oH8JNh",
        "outputId": "67a4e3b5-c983-4235-c1c0-bf00eaa4cdeb"
      },
      "source": [
        "pca = PCA(n_components=2, svd_solver='full')\n",
        "pca.fit(X)\n",
        "PCA(n_components=2, svd_solver='full')\n",
        "print(pca.explained_variance_ratio_)\n",
        "print(pca.singular_values_)"
      ],
      "execution_count": null,
      "outputs": [
        {
          "output_type": "stream",
          "name": "stdout",
          "text": [
            "[0.99244289 0.00755711]\n",
            "[6.30061232 0.54980396]\n"
          ]
        }
      ]
    },
    {
      "cell_type": "code",
      "metadata": {
        "colab": {
          "base_uri": "https://localhost:8080/"
        },
        "id": "3sH84wSk8Tw7",
        "outputId": "8fe10e90-b618-4ca3-a93e-bf041837798b"
      },
      "source": [
        "pca = PCA(n_components=1, svd_solver='arpack')\n",
        "pca.fit(X)\n",
        "PCA(n_components=1, svd_solver='arpack')\n",
        "print(pca.explained_variance_ratio_)\n",
        "print(pca.singular_values_)"
      ],
      "execution_count": null,
      "outputs": [
        {
          "output_type": "stream",
          "name": "stdout",
          "text": [
            "[0.99244289]\n",
            "[6.30061232]\n"
          ]
        }
      ]
    },
    {
      "cell_type": "markdown",
      "metadata": {
        "id": "zwbMhdVE8iyj"
      },
      "source": [
        "LDA in ScikitLearn"
      ]
    },
    {
      "cell_type": "code",
      "metadata": {
        "colab": {
          "base_uri": "https://localhost:8080/"
        },
        "id": "Uijory6e8kSi",
        "outputId": "55889261-3b8f-4b78-bd5a-209bfe16b526"
      },
      "source": [
        "import numpy as np\n",
        "from sklearn.discriminant_analysis import LinearDiscriminantAnalysis\n",
        "X = np.array([[-1, -1], [-2, -1], [-3, -2], [1, 1], [2, 1], [3, 2]])\n",
        "y = np.array([1, 1, 1, 2, 2, 2])\n",
        "clf = LinearDiscriminantAnalysis()\n",
        "clf.fit(X, y)\n",
        "LinearDiscriminantAnalysis()\n",
        "print(clf.predict([[-0.8, -1]]))"
      ],
      "execution_count": null,
      "outputs": [
        {
          "output_type": "stream",
          "name": "stdout",
          "text": [
            "[1]\n"
          ]
        }
      ]
    },
    {
      "cell_type": "markdown",
      "metadata": {
        "id": "1-eHP1D-84S6"
      },
      "source": [
        "SDV in ScikitLearn"
      ]
    },
    {
      "cell_type": "code",
      "metadata": {
        "colab": {
          "base_uri": "https://localhost:8080/"
        },
        "id": "dJ86Po5D85Vm",
        "outputId": "8c8ddb49-89da-4bc4-aa2e-88f0d4c4436c"
      },
      "source": [
        "from sklearn.decomposition import TruncatedSVD\n",
        "from scipy.sparse import csr_matrix\n",
        "import numpy as np\n",
        "np.random.seed(0)\n",
        "X_dense = np.random.rand(100, 100)\n",
        "X_dense[:, 2 * np.arange(50)] = 0\n",
        "X = csr_matrix(X_dense)\n",
        "svd = TruncatedSVD(n_components=5, n_iter=7, random_state=42)\n",
        "svd.fit(X)\n",
        "TruncatedSVD(n_components=5, n_iter=7, random_state=42)\n",
        "print(svd.explained_variance_ratio_)\n",
        "print(svd.explained_variance_ratio_.sum())\n",
        "print(svd.singular_values_)"
      ],
      "execution_count": null,
      "outputs": [
        {
          "output_type": "stream",
          "name": "stdout",
          "text": [
            "[0.01570766 0.05122127 0.04998016 0.04794698 0.04539559]\n",
            "0.21025165824710682\n",
            "[35.24105443  4.5981613   4.54200434  4.44866153  4.32887456]\n"
          ]
        }
      ]
    }
  ]
}