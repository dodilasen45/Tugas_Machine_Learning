{
  "nbformat": 4,
  "nbformat_minor": 0,
  "metadata": {
    "colab": {
      "name": "Clustering.ipynb",
      "provenance": []
    },
    "kernelspec": {
      "name": "python3",
      "display_name": "Python 3"
    },
    "language_info": {
      "name": "python"
    }
  },
  "cells": [
    {
      "cell_type": "code",
      "metadata": {
        "id": "VkLRLbv1-fOI"
      },
      "source": [
        "import pandas as pd\n",
        "import numpy as np\n",
        "import random\n",
        "import operator\n",
        "import math\n",
        "import matplotlib.pyplot as plt \n",
        "from scipy.stats import multivariate_normal  "
      ],
      "execution_count": null,
      "outputs": []
    },
    {
      "cell_type": "code",
      "metadata": {
        "id": "xW_z9F9kFflC"
      },
      "source": [
        "df_full = pd.read_csv(\"Iris.csv\")"
      ],
      "execution_count": null,
      "outputs": []
    },
    {
      "cell_type": "code",
      "metadata": {
        "colab": {
          "base_uri": "https://localhost:8080/",
          "height": 206
        },
        "id": "w2M6PsUdFo5B",
        "outputId": "80248eaf-7cb7-4e89-caf0-8fbb0389972b"
      },
      "source": [
        "df_full.head()"
      ],
      "execution_count": null,
      "outputs": [
        {
          "output_type": "execute_result",
          "data": {
            "text/html": [
              "<div>\n",
              "<style scoped>\n",
              "    .dataframe tbody tr th:only-of-type {\n",
              "        vertical-align: middle;\n",
              "    }\n",
              "\n",
              "    .dataframe tbody tr th {\n",
              "        vertical-align: top;\n",
              "    }\n",
              "\n",
              "    .dataframe thead th {\n",
              "        text-align: right;\n",
              "    }\n",
              "</style>\n",
              "<table border=\"1\" class=\"dataframe\">\n",
              "  <thead>\n",
              "    <tr style=\"text-align: right;\">\n",
              "      <th></th>\n",
              "      <th>Unnamed: 0</th>\n",
              "      <th>Id</th>\n",
              "      <th>SepalLengthCm</th>\n",
              "      <th>SepalWidthCm</th>\n",
              "      <th>PetalLengthCm</th>\n",
              "      <th>PetalWidthCm</th>\n",
              "      <th>Species</th>\n",
              "    </tr>\n",
              "  </thead>\n",
              "  <tbody>\n",
              "    <tr>\n",
              "      <th>0</th>\n",
              "      <td>NaN</td>\n",
              "      <td>1</td>\n",
              "      <td>5.1</td>\n",
              "      <td>3.5</td>\n",
              "      <td>1.4</td>\n",
              "      <td>0.2</td>\n",
              "      <td>Iris-setosa</td>\n",
              "    </tr>\n",
              "    <tr>\n",
              "      <th>1</th>\n",
              "      <td>NaN</td>\n",
              "      <td>2</td>\n",
              "      <td>4.9</td>\n",
              "      <td>3.0</td>\n",
              "      <td>1.4</td>\n",
              "      <td>0.2</td>\n",
              "      <td>Iris-setosa</td>\n",
              "    </tr>\n",
              "    <tr>\n",
              "      <th>2</th>\n",
              "      <td>NaN</td>\n",
              "      <td>3</td>\n",
              "      <td>4.7</td>\n",
              "      <td>3.2</td>\n",
              "      <td>1.3</td>\n",
              "      <td>0.2</td>\n",
              "      <td>Iris-setosa</td>\n",
              "    </tr>\n",
              "    <tr>\n",
              "      <th>3</th>\n",
              "      <td>NaN</td>\n",
              "      <td>4</td>\n",
              "      <td>4.6</td>\n",
              "      <td>3.1</td>\n",
              "      <td>1.5</td>\n",
              "      <td>0.2</td>\n",
              "      <td>Iris-setosa</td>\n",
              "    </tr>\n",
              "    <tr>\n",
              "      <th>4</th>\n",
              "      <td>NaN</td>\n",
              "      <td>5</td>\n",
              "      <td>5.0</td>\n",
              "      <td>3.6</td>\n",
              "      <td>1.4</td>\n",
              "      <td>0.2</td>\n",
              "      <td>Iris-setosa</td>\n",
              "    </tr>\n",
              "  </tbody>\n",
              "</table>\n",
              "</div>"
            ],
            "text/plain": [
              "   Unnamed: 0  Id  SepalLengthCm  ...  PetalLengthCm  PetalWidthCm      Species\n",
              "0         NaN   1            5.1  ...            1.4           0.2  Iris-setosa\n",
              "1         NaN   2            4.9  ...            1.4           0.2  Iris-setosa\n",
              "2         NaN   3            4.7  ...            1.3           0.2  Iris-setosa\n",
              "3         NaN   4            4.6  ...            1.5           0.2  Iris-setosa\n",
              "4         NaN   5            5.0  ...            1.4           0.2  Iris-setosa\n",
              "\n",
              "[5 rows x 7 columns]"
            ]
          },
          "metadata": {},
          "execution_count": 3
        }
      ]
    },
    {
      "cell_type": "code",
      "metadata": {
        "id": "sMB85VEBFrcR"
      },
      "source": [
        "df_full = df_full.drop(['Id'], axis=1)"
      ],
      "execution_count": null,
      "outputs": []
    },
    {
      "cell_type": "code",
      "metadata": {
        "colab": {
          "base_uri": "https://localhost:8080/"
        },
        "id": "D0_lug5TFtfv",
        "outputId": "4bc828a6-2313-4fd1-8d51-facf82e630db"
      },
      "source": [
        "df_full.shape"
      ],
      "execution_count": null,
      "outputs": [
        {
          "output_type": "execute_result",
          "data": {
            "text/plain": [
              "(5, 6)"
            ]
          },
          "metadata": {},
          "execution_count": 5
        }
      ]
    },
    {
      "cell_type": "code",
      "metadata": {
        "id": "TG7OmQmgFvti"
      },
      "source": [
        "columns = list(df_full.columns)\n",
        "features = columns[:len(columns)-1]\n",
        "class_labels = list(df_full[columns[-1]])\n",
        "df = df_full[features]"
      ],
      "execution_count": null,
      "outputs": []
    },
    {
      "cell_type": "code",
      "metadata": {
        "id": "wzs3PEkMFzjq"
      },
      "source": [
        "k = 3\n",
        "MAX_ITER = 100\n",
        "n = len(df)\n",
        "m = 1.7"
      ],
      "execution_count": null,
      "outputs": []
    },
    {
      "cell_type": "code",
      "metadata": {
        "colab": {
          "base_uri": "https://localhost:8080/",
          "height": 633
        },
        "id": "4Ul-2YIGF5Vw",
        "outputId": "45755e40-4abe-4c92-e3b8-bc1629db6816"
      },
      "source": [
        "plt.figure(figsize=(10,10))                          \n",
        "plt.scatter(list(df.iloc[:,0]), list(df.iloc[:,1]), marker='o')       \n",
        "plt.axis('equal')                                                                 \n",
        "plt.xlabel('Sepal Length', fontsize=16)                                                 \n",
        "plt.ylabel('Sepal Width', fontsize=16)                                                 \n",
        "plt.title('Sepal Plot', fontsize=22)                                            \n",
        "plt.grid()                                                                         \n",
        "plt.show()"
      ],
      "execution_count": null,
      "outputs": [
        {
          "output_type": "display_data",
          "data": {
            "image/png": "[encoded data removed]",
            "text/plain": [
              "<Figure size 720x720 with 1 Axes>"
            ]
          },
          "metadata": {
            "needs_background": "light"
          }
        }
      ]
    },
    {
      "cell_type": "code",
      "metadata": {
        "colab": {
          "base_uri": "https://localhost:8080/",
          "height": 633
        },
        "id": "YcxhAXDGGHbJ",
        "outputId": "782d77c6-0475-438b-8ac5-901537846c5d"
      },
      "source": [
        "plt.figure(figsize=(10,10))                    #scatter plot of petal length vs sepal width                          \n",
        "plt.scatter(list(df.iloc[:,2]), list(df.iloc[:,3]), marker='o')       \n",
        "plt.axis('equal')                                                                 \n",
        "plt.xlabel('Petal Length', fontsize=16)                                                 \n",
        "plt.ylabel('Petal Width', fontsize=16)                                                 \n",
        "plt.title('Petal Plot', fontsize=22)                                            \n",
        "plt.grid()                                                                         \n",
        "plt.show()"
      ],
      "execution_count": null,
      "outputs": [
        {
          "output_type": "display_data",
          "data": {
            "image/png": "[encoded data removed]",
            "text/plain": [
              "<Figure size 720x720 with 1 Axes>"
            ]
          },
          "metadata": {
            "needs_background": "light"
          }
        }
      ]
    },
    {
      "cell_type": "code",
      "metadata": {
        "id": "T1ZWJdCXGL50"
      },
      "source": [
        "def accuracy(cluster_labels, class_labels):\n",
        "    correct_pred = 0\n",
        "    #print(cluster_labels)\n",
        "    seto = max(set(labels[0:50]), key=labels[0:50].count)\n",
        "    vers = max(set(labels[50:100]), key=labels[50:100].count)\n",
        "    virg = max(set(labels[100:]), key=labels[100:].count)\n",
        "    \n",
        "    for i in range(len(df)):\n",
        "        if cluster_labels[i] == seto and class_labels[i] == 'Iris-setosa':\n",
        "            correct_pred = correct_pred + 1\n",
        "        if cluster_labels[i] == vers and class_labels[i] == 'Iris-versicolor' and vers!=seto:\n",
        "            correct_pred = correct_pred + 1\n",
        "        if cluster_labels[i] == virg and class_labels[i] == 'Iris-virginica' and virg!=seto and virg!=vers:\n",
        "            correct_pred = correct_pred + 1\n",
        "            \n",
        "    accuracy = (correct_pred/len(df))*100\n",
        "    return accuracy"
      ],
      "execution_count": null,
      "outputs": []
    },
    {
      "cell_type": "code",
      "metadata": {
        "id": "xodvZz7bGPvs"
      },
      "source": [
        "def initializeMembershipMatrix(): # initializing the membership matrix\n",
        "    membership_mat = []\n",
        "    for i in range(n):\n",
        "        random_num_list = [random.random() for i in range(k)]\n",
        "        summation = sum(random_num_list)\n",
        "        temp_list = [x/summation for x in random_num_list]\n",
        "        \n",
        "        flag = temp_list.index(max(temp_list))\n",
        "        for j in range(0,len(temp_list)):\n",
        "            if(j == flag):\n",
        "                temp_list[j] = 1\n",
        "            else:\n",
        "                temp_list[j] = 0\n",
        "        \n",
        "        membership_mat.append(temp_list)\n",
        "    return membership_mat"
      ],
      "execution_count": null,
      "outputs": []
    },
    {
      "cell_type": "code",
      "metadata": {
        "id": "xJ4rxKc2GRFb"
      },
      "source": [
        "membership_mat = initializeMembershipMatrix()"
      ],
      "execution_count": null,
      "outputs": []
    },
    {
      "cell_type": "code",
      "metadata": {
        "id": "Fxle_OP9GViU"
      },
      "source": [
        "def calculateClusterCenter(membership_mat): # calculating the cluster center\n",
        "    cluster_mem_val = list(zip(*membership_mat))\n",
        "    cluster_centers = []\n",
        "    for j in range(k):\n",
        "        x = list(cluster_mem_val[j])\n",
        "        xraised = [p ** m for p in x]\n",
        "        denominator = sum(xraised)\n",
        "        temp_num = []\n",
        "        for i in range(n):\n",
        "            data_point = list(df.iloc[i])\n",
        "            prod = [xraised[i] * val for val in data_point]\n",
        "            temp_num.append(prod)\n",
        "        numerator = map(sum, list(zip(*temp_num)))\n",
        "        center = [z/denominator for z in numerator]\n",
        "        cluster_centers.append(center)\n",
        "    return cluster_centers"
      ],
      "execution_count": null,
      "outputs": []
    },
    {
      "cell_type": "code",
      "metadata": {
        "colab": {
          "base_uri": "https://localhost:8080/"
        },
        "id": "3KIJqd0SGYHB",
        "outputId": "bd5016fb-fd3b-40b1-91c2-d51c79b6a8bd"
      },
      "source": [
        "#cluster_centers = calculateClusterCenter(membership_mat)\n",
        "calculateClusterCenter(membership_mat)"
      ],
      "execution_count": null,
      "outputs": [
        {
          "output_type": "execute_result",
          "data": {
            "text/plain": [
              "[[nan, 4.9, 3.0, 1.4, 0.2],\n",
              " [nan, 4.85, 3.3, 1.45, 0.2],\n",
              " [nan, 4.85, 3.4000000000000004, 1.35, 0.2]]"
            ]
          },
          "metadata": {},
          "execution_count": 42
        }
      ]
    },
    {
      "cell_type": "code",
      "metadata": {
        "id": "1yNig8eSGprY"
      },
      "source": [
        "def updateMembershipValue(membership_mat, cluster_centers): # Updating the membership value\n",
        "    p = float(2/(m-1))\n",
        "    for i in range(n):\n",
        "        x = list(df.iloc[i])\n",
        "        distances = [np.linalg.norm(np.array(list(map(operator.sub, x, cluster_centers[j])))) for j in range(k)]\n",
        "        for j in range(k):\n",
        "            den = sum([math.pow(float(distances[j]/distances[c]), p) for c in range(k)])\n",
        "            membership_mat[i][j] = float(1/den)       \n",
        "    return membership_mat"
      ],
      "execution_count": null,
      "outputs": []
    },
    {
      "cell_type": "code",
      "metadata": {
        "id": "BEJysao6GrzJ"
      },
      "source": [
        "def getClusters(membership_mat): # getting the clusters\n",
        "    cluster_labels = list()\n",
        "    for i in range(n):\n",
        "        max_val, idx = max((val, idx) for (idx, val) in enumerate(membership_mat[i]))\n",
        "        cluster_labels.append(idx)\n",
        "    return cluster_labels"
      ],
      "execution_count": null,
      "outputs": []
    },
    {
      "cell_type": "code",
      "metadata": {
        "id": "7qj75wuaGwkG"
      },
      "source": [
        "def fuzzyCMeansClustering(): #First Iteration with centers at 0\n",
        "    # Membership Matrix\n",
        "    membership_mat = initializeMembershipMatrix()\n",
        "    curr = 0\n",
        "    acc=[]\n",
        "    cent_temp = [[0, 0, 0, 0],[0, 0, 0, 0],[0, 0, 0, 0]]\n",
        "    while curr < MAX_ITER:\n",
        "        if(curr == 0):\n",
        "            cluster_centers = cent_temp\n",
        "            print(\"Cluster Centers:\")\n",
        "            print(np.array(cluster_centers))\n",
        "        else:\n",
        "            cluster_centers = calculateClusterCenter(membership_mat)\n",
        "        #cluster_centers = calculateClusterCenter(membership_mat)\n",
        "        membership_mat = updateMembershipValue(membership_mat, cluster_centers)\n",
        "        cluster_labels = getClusters(membership_mat)\n",
        "        acc.append(cluster_labels)\n",
        "        curr += 1\n",
        "    print(\"---------------------------\")\n",
        "    print(\"Membership Matrix:\")\n",
        "    print(np.array(membership_mat))\n",
        "    return cluster_labels, cluster_centers, acc"
      ],
      "execution_count": null,
      "outputs": []
    },
    {
      "cell_type": "code",
      "metadata": {
        "id": "FEm0AGVmG1V9"
      },
      "source": [
        "def fuzzyCMeansClustering(): #Second Iteration Multivariate Gaussian\n",
        "    # Membership Matrix\n",
        "    membership_mat = initializeMembershipMatrix()\n",
        "    curr = 0\n",
        "    acc=[]\n",
        "    mean = [0, 0]\n",
        "    cov = [[1, 0], [0, 1]]\n",
        "    \n",
        "    lis1,cent_temp=[],[]\n",
        "    \n",
        "    for i in range(0,k):\n",
        "        Z = list(np.random.multivariate_normal(mean, cov))\n",
        "        Z1 = list(np.random.multivariate_normal(mean, cov))\n",
        "        lis1 = Z+Z1\n",
        "        cent_temp.append(lis1)\n",
        "    \n",
        "    \n",
        "    while curr < MAX_ITER:\n",
        "        if(curr == 0):\n",
        "            cluster_centers = cent_temp\n",
        "            print(\"Cluster Centers:\")\n",
        "            print(np.array(cluster_centers))\n",
        "        else:\n",
        "            cluster_centers = calculateClusterCenter(membership_mat)\n",
        "        #cluster_centers = calculateClusterCenter(membership_mat)\n",
        "        membership_mat = updateMembershipValue(membership_mat, cluster_centers)\n",
        "        cluster_labels = getClusters(membership_mat)\n",
        "        acc.append(cluster_labels)\n",
        "        curr += 1\n",
        "    print(\"---------------------------\")\n",
        "    print(\"Membership Matrix:\")\n",
        "    print(np.array(membership_mat))\n",
        "    return cluster_labels, cluster_centers, acc"
      ],
      "execution_count": null,
      "outputs": []
    },
    {
      "cell_type": "code",
      "metadata": {
        "id": "R4rDgW40G-wl"
      },
      "source": [
        "def fuzzyCMeansClustering(): #Third iteration Random vectors from data\n",
        "    # Membership Matrix\n",
        "    membership_mat = initializeMembershipMatrix()\n",
        "    curr = 0\n",
        "    acc=[]\n",
        "    while curr < MAX_ITER:\n",
        "        cluster_centers = calculateClusterCenter(membership_mat)\n",
        "        membership_mat = updateMembershipValue(membership_mat, cluster_centers)\n",
        "        cluster_labels = getClusters(membership_mat)\n",
        "        \n",
        "        acc.append(cluster_labels)\n",
        "        \n",
        "        if(curr == 0):\n",
        "            print(\"Cluster Centers:\")\n",
        "            print(np.array(cluster_centers))\n",
        "        curr += 1\n",
        "    print(\"---------------------------\")\n",
        "    print(\"Partition matrix:\")\n",
        "    print(np.array(membership_mat))\n",
        "    #return cluster_labels, cluster_centers\n",
        "    return cluster_labels, cluster_centers, acc"
      ],
      "execution_count": null,
      "outputs": []
    },
    {
      "cell_type": "code",
      "metadata": {
        "id": "xz8KXPnxJTmv"
      },
      "source": [
        "petal_df = df_full.iloc[:,2:4]\n",
        "petal_df = np.array(petal_df)"
      ],
      "execution_count": null,
      "outputs": []
    },
    {
      "cell_type": "code",
      "metadata": {
        "id": "jvwXJtKXJPUH"
      },
      "source": [
        "m1 = random.choice(petal_df)\n",
        "m2 = random.choice(petal_df)\n",
        "m3 = random.choice(petal_df)\n",
        "cov1 = np.cov(np.transpose(petal_df))\n",
        "cov2 = np.cov(np.transpose(petal_df))\n",
        "cov3 = np.cov(np.transpose(petal_df))"
      ],
      "execution_count": null,
      "outputs": []
    },
    {
      "cell_type": "code",
      "metadata": {
        "colab": {
          "base_uri": "https://localhost:8080/",
          "height": 633
        },
        "id": "VPhBl8U-HBwG",
        "outputId": "0c27d794-3cd5-4065-b8f9-5d3bdca83ecb"
      },
      "source": [
        "x1 = np.linspace(-1,7,150)\n",
        "x2 = np.linspace(-1,4,150)\n",
        "X, Y = np.meshgrid(x1,x2) \n",
        "\n",
        "Z1 = multivariate_normal(m1, cov1)  \n",
        "Z2 = multivariate_normal(m2, cov2)\n",
        "Z3 = multivariate_normal(m3, cov3)\n",
        "\n",
        "pos = np.empty(X.shape + (2,))                # a new array of given shape and type, without initializing entries\n",
        "pos[:, :, 0] = X; pos[:, :, 1] = Y   \n",
        "\n",
        "plt.figure(figsize=(10,10))                                                          # creating the figure and assigning the size\n",
        "plt.scatter(petal_df[:,0], petal_df[:,1], marker='o')     \n",
        "plt.contour(X, Y, Z1.pdf(pos), colors=\"r\" ,alpha = 0.5) \n",
        "plt.contour(X, Y, Z2.pdf(pos), colors=\"b\" ,alpha = 0.5) \n",
        "plt.contour(X, Y, Z3.pdf(pos), colors=\"g\" ,alpha = 0.5) \n",
        "plt.axis('equal')                                                                  # making both the axis equal\n",
        "plt.xlabel('Petal Length', fontsize=16)                                                  # X-Axis\n",
        "plt.ylabel('Petal Width', fontsize=16)                                                  # Y-Axis\n",
        "plt.title('Initial Random Clusters(Petal)', fontsize=22)                                            # Title of the plot\n",
        "plt.grid()                                                                         # displaying gridlines\n",
        "plt.show()"
      ],
      "execution_count": null,
      "outputs": [
        {
          "output_type": "display_data",
          "data": {
            "image/png": "[encoded data removed]",
            "text/plain": [
              "<Figure size 720x720 with 1 Axes>"
            ]
          },
          "metadata": {
            "needs_background": "light"
          }
        }
      ]
    }
  ]
}